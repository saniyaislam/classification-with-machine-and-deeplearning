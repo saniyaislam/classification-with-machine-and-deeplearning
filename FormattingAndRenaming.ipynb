{
 "cells": [
  {
   "cell_type": "code",
   "execution_count": null,
   "metadata": {},
   "outputs": [],
   "source": [
    "# This file is about changing the format of each and every image file.\n",
    "# It will convert every images into .jpg format and rename every image file from 101,102,103....  and so on.\n",
    "import glob\n",
    "import os\n",
    "from PIL import Image\n",
    "def batch_rename():\n",
    "    base_dir = os.getcwd() +\"\\\\dataset_USF_Random\"\n",
    "    sub_dir_list = glob.glob(base_dir + '*')\n",
    "    # print sub_dir_list # like that ['F:/dir1', 'F:/dir2']\n",
    "    for dir_item in sub_dir_list:\n",
    "        #im.save(\"outfile.jpg\")\n",
    "        files = glob.glob(dir_item + '/*.png')\n",
    "        i = 101\n",
    "        for f in files:\n",
    "            os.rename(f, os.path.join(dir_item, str(i) + '.jpg'))\n",
    "            i += 1\n",
    "       # im.save(i.jpg)\n",
    "batch_rename()\n"
   ]
  }
 ],
 "metadata": {
  "kernelspec": {
   "display_name": "Python 3",
   "language": "python",
   "name": "python3"
  },
  "language_info": {
   "codemirror_mode": {
    "name": "ipython",
    "version": 3
   },
   "file_extension": ".py",
   "mimetype": "text/x-python",
   "name": "python",
   "nbconvert_exporter": "python",
   "pygments_lexer": "ipython3",
   "version": "3.6.5"
  }
 },
 "nbformat": 4,
 "nbformat_minor": 2
}
